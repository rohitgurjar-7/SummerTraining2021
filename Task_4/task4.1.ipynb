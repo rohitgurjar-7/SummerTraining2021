{
 "cells": [
  {
   "cell_type": "code",
   "execution_count": null,
   "id": "a0222810",
   "metadata": {},
   "outputs": [],
   "source": [
    "#import cv2"
   ]
  },
  {
   "cell_type": "code",
   "execution_count": null,
   "id": "bb92095f",
   "metadata": {},
   "outputs": [],
   "source": [
    "import numpy as np,cv2 #we can import both at once."
   ]
  },
  {
   "cell_type": "code",
   "execution_count": null,
   "id": "8efc0003",
   "metadata": {},
   "outputs": [],
   "source": [
    "image = np.zeros((720,1280,3))"
   ]
  },
  {
   "cell_type": "code",
   "execution_count": null,
   "id": "d47282c4",
   "metadata": {},
   "outputs": [],
   "source": [
    "cv2.rectangle(image,(770,1120),(460,340),(590,400),10)\n",
    "cv2.rectangle(image,(305,11220),(720,1160),(190,1500),10)\n",
    "cv2.rectangle(image,(100,150),(60,1150),(690,420),10)\n",
    "cv2.rectangle(image,(30,550),(40,2550),(220,700),10)"
   ]
  },
  {
   "cell_type": "code",
   "execution_count": null,
   "id": "b48ef818",
   "metadata": {},
   "outputs": [],
   "source": [
    "#cv2.imwrite(\"drawing.jpg\",image)\n",
    "cv2.imshow(\"image\",image)\n",
    "cv2.waitKey(1)\n",
    "cv2.destroyAllWindows"
   ]
  },
  {
   "cell_type": "code",
   "execution_count": null,
   "id": "44485321",
   "metadata": {},
   "outputs": [],
   "source": []
  }
 ],
 "metadata": {
  "kernelspec": {
   "display_name": "Python 3",
   "language": "python",
   "name": "python3"
  },
  "language_info": {
   "codemirror_mode": {
    "name": "ipython",
    "version": 3
   },
   "file_extension": ".py",
   "mimetype": "text/x-python",
   "name": "python",
   "nbconvert_exporter": "python",
   "pygments_lexer": "ipython3",
   "version": "3.8.8"
  }
 },
 "nbformat": 4,
 "nbformat_minor": 5
}
