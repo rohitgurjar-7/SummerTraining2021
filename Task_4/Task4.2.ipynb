{
 "cells": [
  {
   "cell_type": "code",
   "execution_count": null,
   "id": "627a0dc8",
   "metadata": {},
   "outputs": [],
   "source": [
    "import numpy as np\n",
    "import cv2"
   ]
  },
  {
   "cell_type": "code",
   "execution_count": null,
   "id": "8f2626bf",
   "metadata": {},
   "outputs": [],
   "source": [
    "photo_1 = cv2.imread('blackhole.jpeg')\n",
    "photo_2 = cv2.imread('tree.jpeg')"
   ]
  },
  {
   "cell_type": "code",
   "execution_count": null,
   "id": "6db47a7e",
   "metadata": {},
   "outputs": [],
   "source": [
    "#SHOWS IMAGE 1\n",
    "cv2.imshow('image 1',photo_1)\n",
    "cv2.waitKey(1)\n",
    "cv2.destroyAllWindows()"
   ]
  },
  {
   "cell_type": "code",
   "execution_count": null,
   "id": "d9d6a36f",
   "metadata": {},
   "outputs": [],
   "source": [
    "#SHOWS IMAGE 2\n",
    "cv2.imshow('image 2',photo_2)\n",
    "cv2.waitKey(1)\n",
    "cv2.destroyAllWindows()"
   ]
  },
  {
   "cell_type": "code",
   "execution_count": null,
   "id": "865b6f26",
   "metadata": {},
   "outputs": [],
   "source": [
    "#IMAGE 1 ARRAY SHAPE \n",
    "photo_1.shape"
   ]
  },
  {
   "cell_type": "code",
   "execution_count": null,
   "id": "f53c14b6",
   "metadata": {},
   "outputs": [],
   "source": [
    "#IMAGE 2 ARRAY SHAPE\n",
    "photo_2.shape"
   ]
  },
  {
   "cell_type": "code",
   "execution_count": null,
   "id": "43b71e4c",
   "metadata": {},
   "outputs": [],
   "source": [
    "#CROPPING IMAGE 1\n",
    "cphoto_1 = photo_1[100:800,500:1360]"
   ]
  },
  {
   "cell_type": "code",
   "execution_count": null,
   "id": "0e378372",
   "metadata": {},
   "outputs": [],
   "source": [
    "#CROPPED IMAGE 1\n",
    "#cv2.imwrite(\"cropped bh.jpg\",cphoto_1)  #THIS WILL CREATE JPG FILE IN PC\n",
    "cv2.imshow('image 1',cphoto_1)\n",
    "cv2.waitKey(1)\n",
    "cv2.destroyAllWindows()"
   ]
  },
  {
   "cell_type": "code",
   "execution_count": null,
   "id": "e34f37a8",
   "metadata": {},
   "outputs": [],
   "source": [
    "#CROPPING IMAGE 2\n",
    "cphoto_2 = photo_2[100:800,500:1360]"
   ]
  },
  {
   "cell_type": "code",
   "execution_count": null,
   "id": "215c6e0d",
   "metadata": {},
   "outputs": [],
   "source": [
    "#CROPPED IMAGE 2\n",
    "cv2.imshow('image 2',cphoto_2)\n",
    "cv2.waitKey(1)\n",
    "cv2.destroyAllWindows()"
   ]
  },
  {
   "cell_type": "code",
   "execution_count": null,
   "id": "f02d36d7",
   "metadata": {},
   "outputs": [],
   "source": [
    "cphoto_1.shape"
   ]
  },
  {
   "cell_type": "code",
   "execution_count": null,
   "id": "eb0f14a0",
   "metadata": {},
   "outputs": [],
   "source": [
    "cphoto_2.shape"
   ]
  },
  {
   "cell_type": "code",
   "execution_count": null,
   "id": "9558c428",
   "metadata": {},
   "outputs": [],
   "source": [
    "#Swapping\n",
    "cphoto_1 = photo_1[100:800,500:1360]\n",
    "photo_2[100:800,500:1360] = cphoto_1\n",
    "cv2.imshow(\"swap\",photo_2)\n",
    "cv2.waitKey(1)\n",
    "cv2.destroyAllWindows()"
   ]
  },
  {
   "cell_type": "code",
   "execution_count": null,
   "id": "08261b4e",
   "metadata": {},
   "outputs": [],
   "source": [
    "photo_1 = cv2.imread(\"blackhole.jpeg\")\n",
    "photo_2 = cv2.imread(\"tree.jpeg\")"
   ]
  },
  {
   "cell_type": "code",
   "execution_count": null,
   "id": "89561136",
   "metadata": {},
   "outputs": [],
   "source": [
    "#Swapping\n",
    "cphoto_2 = photo_2[100:800,500:1360]\n",
    "photo_1[100:800,500:1360] = cphoto_2\n",
    "cv2.imshow(\"swap\",photo_1)\n",
    "cv2.waitKey(1)\n",
    "cv2.destroyAllWindows()"
   ]
  },
  {
   "cell_type": "code",
   "execution_count": null,
   "id": "b9fb13ea",
   "metadata": {},
   "outputs": [],
   "source": []
  },
  {
   "cell_type": "code",
   "execution_count": null,
   "id": "ee1ca815",
   "metadata": {},
   "outputs": [],
   "source": []
  },
  {
   "cell_type": "code",
   "execution_count": null,
   "id": "1bf293be",
   "metadata": {},
   "outputs": [],
   "source": []
  }
 ],
 "metadata": {
  "kernelspec": {
   "display_name": "Python 3",
   "language": "python",
   "name": "python3"
  },
  "language_info": {
   "codemirror_mode": {
    "name": "ipython",
    "version": 3
   },
   "file_extension": ".py",
   "mimetype": "text/x-python",
   "name": "python",
   "nbconvert_exporter": "python",
   "pygments_lexer": "ipython3",
   "version": "3.8.8"
  }
 },
 "nbformat": 4,
 "nbformat_minor": 5
}
