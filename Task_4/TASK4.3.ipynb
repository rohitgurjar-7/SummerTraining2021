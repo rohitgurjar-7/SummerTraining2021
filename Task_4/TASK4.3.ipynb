{
 "cells": [
  {
   "cell_type": "code",
   "execution_count": 1,
   "id": "cd0926ca",
   "metadata": {},
   "outputs": [],
   "source": [
    "import cv2"
   ]
  },
  {
   "cell_type": "code",
   "execution_count": 2,
   "id": "97f18c67",
   "metadata": {},
   "outputs": [],
   "source": [
    "photo_1 = cv2.imread(\"blackhole.jpeg\")\n",
    "photo_2 = cv2.imread(\"tree.jpeg\")\n",
    "photo_3 = cv2.imread(\"foot.jpeg\")\n",
    "photo_4 = cv2.imread(\"photo2.jpeg\")"
   ]
  },
  {
   "cell_type": "code",
   "execution_count": 3,
   "id": "23336966",
   "metadata": {},
   "outputs": [],
   "source": [
    "image1_re = cv2.resize(photo_1,(950,550))\n",
    "image2_re = cv2.resize(photo_2,(950,550))\n",
    "image3_re = cv2.resize(photo_3,(950,550))\n",
    "image4_re = cv2.resize(photo_4,(950,550))"
   ]
  },
  {
   "cell_type": "code",
   "execution_count": 4,
   "id": "6f25a5c7",
   "metadata": {},
   "outputs": [],
   "source": [
    "vconcat = cv2.vconcat([image1_re , image2_re , image3_re, image4_re])\n",
    "cv2.imshow(\"vconcat\",vconcat)\n",
    "cv2.waitKey(1)\n",
    "cv2.destroyAllWindows()"
   ]
  },
  {
   "cell_type": "code",
   "execution_count": 5,
   "id": "793d31f3",
   "metadata": {},
   "outputs": [],
   "source": [
    "hconcat = cv2.hconcat([image1_re , image2_re , image3_re ,image4_re])\n",
    "cv2.imshow(\"hconcat\",hconcat)\n",
    "cv2.waitKey(1)\n",
    "cv2.destroyAllWindows()"
   ]
  }
 ],
 "metadata": {
  "kernelspec": {
   "display_name": "Python 3",
   "language": "python",
   "name": "python3"
  },
  "language_info": {
   "codemirror_mode": {
    "name": "ipython",
    "version": 3
   },
   "file_extension": ".py",
   "mimetype": "text/x-python",
   "name": "python",
   "nbconvert_exporter": "python",
   "pygments_lexer": "ipython3",
   "version": "3.8.8"
  }
 },
 "nbformat": 4,
 "nbformat_minor": 5
}
